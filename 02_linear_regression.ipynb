{
 "cells": [
  {
   "cell_type": "markdown",
   "metadata": {},
   "source": [
    "## Importing modules"
   ]
  },
  {
   "cell_type": "code",
   "execution_count": 16,
   "metadata": {},
   "outputs": [],
   "source": [
    "import numpy as np\n",
    "from keras.datasets import boston_housing\n",
    "from keras.models import Sequential\n",
    "from keras.layers import Dense\n",
    "from keras.callbacks import EarlyStopping\n",
    "import matplotlib.pyplot as plt\n",
    "%matplotlib inline"
   ]
  },
  {
   "cell_type": "markdown",
   "metadata": {},
   "source": [
    "## Inspecting Dataset"
   ]
  },
  {
   "cell_type": "code",
   "execution_count": 17,
   "metadata": {},
   "outputs": [
    {
     "name": "stdout",
     "output_type": "stream",
     "text": [
      "Training Features :  (404, 13)\n",
      "Training Labels :  (404,)\n",
      "Test Features :  (102, 13)\n",
      "Test Labelss :  (102,)\n"
     ]
    }
   ],
   "source": [
    "(X_train, y_train),(X_test,y_test) = boston_housing.load_data()\n",
    "print(\"Training Features : \",X_train.shape)\n",
    "print(\"Training Labels : \",y_train.shape)\n",
    "print(\"Test Features : \", X_test.shape)\n",
    "print(\"Test Labelss : \", y_test.shape)"
   ]
  },
  {
   "cell_type": "markdown",
   "metadata": {},
   "source": [
    "## Inspecting Variations In The Different Features"
   ]
  },
  {
   "cell_type": "code",
   "execution_count": 18,
   "metadata": {},
   "outputs": [
    {
     "name": "stdout",
     "output_type": "stream",
     "text": [
      "[3.74511056930693, 11.48019801980198, 11.104430693069308, 0.06188118811881188, 0.5573559405940595, 6.267081683168317, 69.01064356435644, 3.7402707920792078, 9.44059405940594, 405.8985148514852, 18.4759900990099, 354.7831683168317, 12.740816831683167]\n"
     ]
    }
   ],
   "source": [
    "means = [np.mean(X_train[:,i]) for i in range(13)]\n",
    "print(means)\n"
   ]
  },
  {
   "cell_type": "markdown",
   "metadata": {},
   "source": [
    "## Performing Feature-Wise Normalization / Scaling"
   ]
  },
  {
   "cell_type": "code",
   "execution_count": 19,
   "metadata": {},
   "outputs": [],
   "source": [
    "means = X_train.mean(axis=0)\n",
    "X_train -= means\n",
    "std = X_train.std(axis=0)\n",
    "X_train /= std\n",
    "\n",
    "X_test -= means\n",
    "X_test /= std"
   ]
  },
  {
   "cell_type": "markdown",
   "metadata": {},
   "source": [
    "## Building The Model"
   ]
  },
  {
   "cell_type": "code",
   "execution_count": 51,
   "metadata": {},
   "outputs": [
    {
     "data": {
      "text/plain": [
       "Text(0.5, 1.0, 'Mean Absolute Error')"
      ]
     },
     "execution_count": 51,
     "metadata": {},
     "output_type": "execute_result"
    },
    {
     "data": {
      "image/png": "[encoded data removed]",
      "text/plain": [
       "<Figure size 432x288 with 2 Axes>"
      ]
     },
     "metadata": {
      "needs_background": "light"
     },
     "output_type": "display_data"
    }
   ],
   "source": [
    "input_shape = (X_train.shape[1],)\n",
    "early_stop = EarlyStopping(monitor='mean_absolute_error',patience=2)\n",
    "\n",
    "model = Sequential()\n",
    "model.add(Dense(64, activation='relu', input_shape=input_shape))\n",
    "model.add(Dense(64, activation='relu'))\n",
    "# output layer has no activation function cos having one will contraint the range of values it can generate\n",
    "# if you want to use an activation function, you can use 'relu'\n",
    "model.add(Dense(1))\n",
    "\n",
    "model.compile(optimizer='rmsprop', loss='mse', metrics=['mae'])\n",
    "hist = model.fit(X_train,y_train, epochs=200, callbacks=[early_stop], verbose=False)\n",
    "\n",
    "plt.subplot(1,2,1)\n",
    "plt.plot(hist.history['loss'])\n",
    "plt.xlabel('epoch')\n",
    "plt.ylabel('loss')\n",
    "plt.title('Loss')\n",
    "\n",
    "plt.subplot(1,2,2)\n",
    "plt.plot(hist.history['mean_absolute_error'])\n",
    "plt.xlabel('epoch')\n",
    "plt.ylabel('mae')\n",
    "plt.title('Mean Absolute Error')\n"
   ]
  },
  {
   "cell_type": "markdown",
   "metadata": {},
   "source": [
    "## Making Predictions With Model"
   ]
  },
  {
   "cell_type": "code",
   "execution_count": 52,
   "metadata": {},
   "outputs": [
    {
     "name": "stdout",
     "output_type": "stream",
     "text": [
      "TEST TARGETS :  [ 7.2 18.8 19.  27.  22.2]\n",
      "PREDICTED TARGETS :  [[ 8.602223]\n",
      " [16.588821]\n",
      " [20.531431]\n",
      " [32.247078]\n",
      " [24.42527 ]]\n"
     ]
    }
   ],
   "source": [
    "result = model.predict(X_test)\n",
    "print(\"TEST TARGETS : \", y_test[:5])\n",
    "print(\"PREDICTED TARGETS : \", result[:5])"
   ]
  },
  {
   "cell_type": "code",
   "execution_count": null,
   "metadata": {},
   "outputs": [],
   "source": []
  },
  {
   "cell_type": "code",
   "execution_count": null,
   "metadata": {},
   "outputs": [],
   "source": []
  }
 ],
 "metadata": {
  "kernelspec": {
   "display_name": "Python 3",
   "language": "python",
   "name": "python3"
  },
  "language_info": {
   "codemirror_mode": {
    "name": "ipython",
    "version": 3
   },
   "file_extension": ".py",
   "mimetype": "text/x-python",
   "name": "python",
   "nbconvert_exporter": "python",
   "pygments_lexer": "ipython3",
   "version": "3.6.6"
  }
 },
 "nbformat": 4,
 "nbformat_minor": 2
}
