{
 "cells": [
  {
   "cell_type": "markdown",
   "metadata": {},
   "source": [
    "## Import Dependencies"
   ]
  },
  {
   "cell_type": "code",
   "execution_count": 84,
   "metadata": {},
   "outputs": [],
   "source": [
    "from keras.datasets import mnist\n",
    "from keras.models import Sequential\n",
    "from keras.layers import Dense\n",
    "from keras.layers import Dropout\n",
    "from keras.layers import Flatten\n",
    "from keras.layers.convolutional import Conv2D\n",
    "from keras.layers.convolutional import MaxPooling2D\n",
    "from keras.utils import to_categorical\n",
    "from keras.callbacks import EarlyStopping\n",
    "import matplotlib.pyplot as plt\n",
    "import numpy as np\n",
    "import pandas as pd\n",
    "\n",
    "(X_train, y_train), (X_test, y_test) = mnist.load_data()"
   ]
  },
  {
   "cell_type": "markdown",
   "metadata": {},
   "source": [
    "## Inspecting Datasets"
   ]
  },
  {
   "cell_type": "code",
   "execution_count": 85,
   "metadata": {},
   "outputs": [
    {
     "name": "stdout",
     "output_type": "stream",
     "text": [
      "(60000, 28, 28)\n",
      "(60000,)\n",
      "(10000, 28, 28)\n",
      "(10000,)\n"
     ]
    }
   ],
   "source": [
    "print(X_train.shape)\n",
    "print(y_train.shape)\n",
    "print(X_test.shape)\n",
    "print(y_test.shape)"
   ]
  },
  {
   "cell_type": "markdown",
   "metadata": {},
   "source": [
    "## Plotting First 2 Observations From Training Data"
   ]
  },
  {
   "cell_type": "code",
   "execution_count": 86,
   "metadata": {},
   "outputs": [
    {
     "data": {
      "text/plain": [
       "<matplotlib.image.AxesImage at 0x7f3599d84400>"
      ]
     },
     "execution_count": 86,
     "metadata": {},
     "output_type": "execute_result"
    },
    {
     "data": {
      "image/png": "[encoded data removed]",
      "text/plain": [
       "<Figure size 432x288 with 1 Axes>"
      ]
     },
     "metadata": {
      "needs_background": "light"
     },
     "output_type": "display_data"
    }
   ],
   "source": [
    "img0, img1 = X_train[0:2]\n",
    "imgs = np.hstack([img0, img1])\n",
    "plt.imshow(imgs, cmap=\"binary\")"
   ]
  },
  {
   "cell_type": "markdown",
   "metadata": {},
   "source": [
    "## Printing First 2 Targets From Training Data"
   ]
  },
  {
   "cell_type": "code",
   "execution_count": 87,
   "metadata": {},
   "outputs": [
    {
     "name": "stdout",
     "output_type": "stream",
     "text": [
      "5\n",
      "0\n"
     ]
    }
   ],
   "source": [
    "print(y_train[0])\n",
    "print(y_train[1])"
   ]
  },
  {
   "cell_type": "markdown",
   "metadata": {},
   "source": [
    "## Preprocessing Predictors & Targets"
   ]
  },
  {
   "cell_type": "code",
   "execution_count": 88,
   "metadata": {},
   "outputs": [],
   "source": [
    "X_train = X_train.reshape((60000, 28 * 28))\n",
    "X_train = X_train.astype('float32')\n",
    "X_train /= 255\n",
    "\n",
    "input_shape = (X_train.shape[1],)\n",
    "\n",
    "X_test = X_test.reshape((10000, 28 * 28))\n",
    "X_test = X_test.astype('float32')\n",
    "X_test /= 255\n",
    "\n",
    "y_train = to_categorical(y_train,10)\n",
    "y_test = to_categorical(y_test,10)"
   ]
  },
  {
   "cell_type": "markdown",
   "metadata": {},
   "source": [
    "## Inspecting Datasets After Preprocessing"
   ]
  },
  {
   "cell_type": "code",
   "execution_count": 89,
   "metadata": {},
   "outputs": [
    {
     "name": "stdout",
     "output_type": "stream",
     "text": [
      "(60000, 784)\n",
      "(60000, 10)\n",
      "(10000, 784)\n",
      "(10000, 10)\n"
     ]
    }
   ],
   "source": [
    "print(X_train.shape)\n",
    "print(y_train.shape)\n",
    "print(X_test.shape)\n",
    "print(y_test.shape)"
   ]
  },
  {
   "cell_type": "code",
   "execution_count": 91,
   "metadata": {},
   "outputs": [
    {
     "name": "stdout",
     "output_type": "stream",
     "text": [
      "Train on 42000 samples, validate on 18000 samples\n",
      "Epoch 1/30\n",
      "42000/42000 [==============================] - 12s 276us/step - loss: 0.2368 - acc: 0.9306 - val_loss: 0.1460 - val_acc: 0.9554\n",
      "Epoch 2/30\n",
      "42000/42000 [==============================] - 10s 227us/step - loss: 0.0907 - acc: 0.9721 - val_loss: 0.1047 - val_acc: 0.9682\n",
      "Epoch 3/30\n",
      "42000/42000 [==============================] - 8s 197us/step - loss: 0.0575 - acc: 0.9820 - val_loss: 0.0950 - val_acc: 0.9712\n",
      "Epoch 4/30\n",
      "42000/42000 [==============================] - 8s 194us/step - loss: 0.0397 - acc: 0.9880 - val_loss: 0.0972 - val_acc: 0.9711\n",
      "Epoch 5/30\n",
      "42000/42000 [==============================] - 8s 193us/step - loss: 0.0300 - acc: 0.9903 - val_loss: 0.0937 - val_acc: 0.9732\n",
      "Epoch 6/30\n",
      "42000/42000 [==============================] - 8s 197us/step - loss: 0.0231 - acc: 0.9927 - val_loss: 0.0955 - val_acc: 0.9744\n",
      "Epoch 7/30\n",
      "42000/42000 [==============================] - 9s 210us/step - loss: 0.0162 - acc: 0.9952 - val_loss: 0.0972 - val_acc: 0.9742\n"
     ]
    },
    {
     "data": {
      "text/plain": [
       "array([[2.63295030e-09, 3.32740085e-10, 2.44088092e-08, ...,\n",
       "        9.99994755e-01, 2.44788700e-09, 2.96747970e-07],\n",
       "       [3.95598398e-12, 8.68307453e-08, 9.99998927e-01, ...,\n",
       "        5.17141016e-15, 7.89313560e-07, 2.08285957e-13],\n",
       "       [2.52491446e-07, 9.99780953e-01, 1.07969945e-05, ...,\n",
       "        1.43384459e-04, 4.95914828e-05, 1.75294460e-07],\n",
       "       ...,\n",
       "       [2.37592128e-15, 6.20558563e-14, 5.09933960e-14, ...,\n",
       "        1.07372010e-07, 1.19797834e-08, 5.40249084e-06],\n",
       "       [6.49075021e-12, 1.14488912e-14, 1.03591087e-17, ...,\n",
       "        1.15058258e-11, 5.85455098e-08, 1.00114559e-14],\n",
       "       [9.29076260e-12, 1.28738081e-14, 1.59799864e-11, ...,\n",
       "        4.60648831e-15, 3.06569447e-14, 2.09263153e-15]], dtype=float32)"
      ]
     },
     "execution_count": 91,
     "metadata": {},
     "output_type": "execute_result"
    },
    {
     "data": {
      "image/png": "[encoded data removed]",
      "text/plain": [
       "<Figure size 432x288 with 2 Axes>"
      ]
     },
     "metadata": {
      "needs_background": "light"
     },
     "output_type": "display_data"
    }
   ],
   "source": [
    "model = Sequential()\n",
    "model.add(Dense(512, activation='relu', input_shape=input_shape))\n",
    "model.add(Dense(10, activation='softmax'))\n",
    "\n",
    "model.compile(optimizer='adam', loss='categorical_crossentropy', metrics=['accuracy'])\n",
    "callback = EarlyStopping(patience=2)\n",
    "hist_callback = model.fit(X_train, y_train, validation_split=0.3, epochs=30, callbacks=[callback])\n",
    "\n",
    "model_json = model.to_json()\n",
    "with open(\"model.json\",\"w\") as file:\n",
    "    file.write(model_json)\n",
    "model.save_weights(\"model.h5\")\n",
    "\n",
    "plt.clf()\n",
    "plt.subplot(1,2,1)\n",
    "plt.plot(hist_callback.history['acc'], color='b')\n",
    "plt.plot(hist_callback.history['val_acc'], color='r')\n",
    "plt.title('model accuracy')\n",
    "plt.xlabel(\"epoch\")\n",
    "plt.ylabel(\"accuracy\")\n",
    "plt.legend(['train', 'test'], loc='upper left')\n",
    "\n",
    "plt.subplot(1,2,2)\n",
    "plt.plot(hist_callback.history['loss'], color='b')\n",
    "plt.plot(hist_callback.history['val_loss'], color='r')\n",
    "plt.title('model loss')\n",
    "plt.xlabel(\"epoch\")\n",
    "plt.ylabel(\"loss\")\n",
    "plt.legend(['train', 'test'], loc='upper right')\n",
    "\n",
    "model_1.predict([X_test])"
   ]
  },
  {
   "cell_type": "code",
   "execution_count": null,
   "metadata": {},
   "outputs": [],
   "source": []
  }
 ],
 "metadata": {
  "kernelspec": {
   "display_name": "Python 3",
   "language": "python",
   "name": "python3"
  },
  "language_info": {
   "codemirror_mode": {
    "name": "ipython",
    "version": 3
   },
   "file_extension": ".py",
   "mimetype": "text/x-python",
   "name": "python",
   "nbconvert_exporter": "python",
   "pygments_lexer": "ipython3",
   "version": "3.6.6"
  }
 },
 "nbformat": 4,
 "nbformat_minor": 2
}
