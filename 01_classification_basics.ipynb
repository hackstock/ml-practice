{
 "cells": [
  {
   "cell_type": "markdown",
   "metadata": {},
   "source": [
    "## Import Dependencies"
   ]
  },
  {
   "cell_type": "code",
   "execution_count": 47,
   "metadata": {},
   "outputs": [],
   "source": [
    "from keras.datasets import mnist\n",
    "from keras.models import Sequential\n",
    "from keras.layers import Dense\n",
    "from keras.utils import to_categorical\n",
    "import matplotlib.pyplot as plt\n",
    "import numpy as np\n",
    "import pandas as pd\n",
    "\n",
    "(X_train, y_train), (X_test, y_test) = mnist.load_data()"
   ]
  },
  {
   "cell_type": "markdown",
   "metadata": {},
   "source": [
    "## Inspecting Datasets"
   ]
  },
  {
   "cell_type": "code",
   "execution_count": 48,
   "metadata": {},
   "outputs": [
    {
     "name": "stdout",
     "output_type": "stream",
     "text": [
      "(60000, 28, 28)\n",
      "(60000,)\n",
      "(10000, 28, 28)\n",
      "(10000,)\n"
     ]
    }
   ],
   "source": [
    "print(X_train.shape)\n",
    "print(y_train.shape)\n",
    "print(X_test.shape)\n",
    "print(y_test.shape)"
   ]
  },
  {
   "cell_type": "markdown",
   "metadata": {},
   "source": [
    "## Plotting First 2 Observations From Training Data"
   ]
  },
  {
   "cell_type": "code",
   "execution_count": 49,
   "metadata": {},
   "outputs": [
    {
     "data": {
      "text/plain": [
       "<matplotlib.image.AxesImage at 0x7f3599dd3e10>"
      ]
     },
     "execution_count": 49,
     "metadata": {},
     "output_type": "execute_result"
    },
    {
     "data": {
      "image/png": "[encoded data removed]",
      "text/plain": [
       "<Figure size 432x288 with 1 Axes>"
      ]
     },
     "metadata": {
      "needs_background": "light"
     },
     "output_type": "display_data"
    }
   ],
   "source": [
    "img0, img1 = X_train[0:2]\n",
    "imgs = np.hstack([img0, img1])\n",
    "plt.imshow(imgs, cmap=\"binary\")"
   ]
  },
  {
   "cell_type": "markdown",
   "metadata": {},
   "source": [
    "## Printing First 2 Targets From Training Data"
   ]
  },
  {
   "cell_type": "code",
   "execution_count": 50,
   "metadata": {},
   "outputs": [
    {
     "name": "stdout",
     "output_type": "stream",
     "text": [
      "5\n",
      "0\n"
     ]
    }
   ],
   "source": [
    "print(y_train[0])\n",
    "print(y_train[1])"
   ]
  },
  {
   "cell_type": "markdown",
   "metadata": {},
   "source": [
    "## Preprocessing Predictors & Targets"
   ]
  },
  {
   "cell_type": "code",
   "execution_count": 51,
   "metadata": {},
   "outputs": [],
   "source": [
    "X_train = X_train.reshape((60000, 28 * 28))\n",
    "X_train = X_train.astype('float32')\n",
    "X_train /= 255\n",
    "\n",
    "input_shape = (X_train.shape[1],)\n",
    "\n",
    "X_test = X_test.reshape((10000, 28 * 28))\n",
    "X_test = X_test.astype('float32')\n",
    "X_test /= 255\n",
    "\n",
    "y_train = to_categorical(y_train,10)\n",
    "y_test = to_categorical(y_test,10)"
   ]
  },
  {
   "cell_type": "markdown",
   "metadata": {},
   "source": [
    "## Inspecting Datasets After Preprocessing"
   ]
  },
  {
   "cell_type": "code",
   "execution_count": 52,
   "metadata": {},
   "outputs": [
    {
     "name": "stdout",
     "output_type": "stream",
     "text": [
      "(60000, 784)\n",
      "(60000, 10)\n",
      "(10000, 784)\n",
      "(10000, 10)\n"
     ]
    }
   ],
   "source": [
    "print(X_train.shape)\n",
    "print(y_train.shape)\n",
    "print(X_test.shape)\n",
    "print(y_test.shape)"
   ]
  },
  {
   "cell_type": "code",
   "execution_count": 80,
   "metadata": {},
   "outputs": [
    {
     "name": "stdout",
     "output_type": "stream",
     "text": [
      "Train on 42000 samples, validate on 18000 samples\n",
      "Epoch 1/30\n",
      "42000/42000 [==============================] - 5s 116us/step - loss: 0.2945 - acc: 0.9134 - val_loss: 0.1642 - val_acc: 0.9519\n",
      "Epoch 2/30\n",
      "42000/42000 [==============================] - 4s 92us/step - loss: 0.1235 - acc: 0.9625 - val_loss: 0.1209 - val_acc: 0.9641\n",
      "Epoch 3/30\n",
      "42000/42000 [==============================] - 4s 90us/step - loss: 0.0848 - acc: 0.9738 - val_loss: 0.1121 - val_acc: 0.9675\n",
      "Epoch 4/30\n",
      "42000/42000 [==============================] - 4s 92us/step - loss: 0.0669 - acc: 0.9785 - val_loss: 0.1081 - val_acc: 0.9687\n",
      "Epoch 5/30\n",
      "42000/42000 [==============================] - 4s 95us/step - loss: 0.0507 - acc: 0.9843 - val_loss: 0.1107 - val_acc: 0.9687\n",
      "Epoch 6/30\n",
      "42000/42000 [==============================] - 4s 97us/step - loss: 0.0404 - acc: 0.9871 - val_loss: 0.1137 - val_acc: 0.9698\n",
      "Epoch 7/30\n",
      "42000/42000 [==============================] - 4s 95us/step - loss: 0.0343 - acc: 0.9884 - val_loss: 0.1231 - val_acc: 0.9686\n",
      "Epoch 8/30\n",
      "42000/42000 [==============================] - 4s 93us/step - loss: 0.0283 - acc: 0.9899 - val_loss: 0.1239 - val_acc: 0.9694\n",
      "Epoch 9/30\n",
      "42000/42000 [==============================] - 4s 94us/step - loss: 0.0273 - acc: 0.9908 - val_loss: 0.1350 - val_acc: 0.9682\n",
      "Epoch 10/30\n",
      "42000/42000 [==============================] - 4s 92us/step - loss: 0.0215 - acc: 0.9927 - val_loss: 0.1338 - val_acc: 0.9694\n",
      "Epoch 11/30\n",
      "42000/42000 [==============================] - 4s 92us/step - loss: 0.0165 - acc: 0.9943 - val_loss: 0.1551 - val_acc: 0.9660\n",
      "Epoch 12/30\n",
      "42000/42000 [==============================] - 4s 92us/step - loss: 0.0162 - acc: 0.9942 - val_loss: 0.1296 - val_acc: 0.9725\n",
      "Epoch 13/30\n",
      "42000/42000 [==============================] - 4s 98us/step - loss: 0.0183 - acc: 0.9937 - val_loss: 0.1404 - val_acc: 0.9708\n",
      "Epoch 14/30\n",
      "42000/42000 [==============================] - 4s 92us/step - loss: 0.0154 - acc: 0.9948 - val_loss: 0.1455 - val_acc: 0.9711\n",
      "Epoch 15/30\n",
      "42000/42000 [==============================] - 4s 92us/step - loss: 0.0151 - acc: 0.9951 - val_loss: 0.1635 - val_acc: 0.9666\n",
      "Epoch 16/30\n",
      "42000/42000 [==============================] - 4s 92us/step - loss: 0.0137 - acc: 0.9956 - val_loss: 0.1692 - val_acc: 0.9681\n",
      "Epoch 17/30\n",
      "42000/42000 [==============================] - 4s 96us/step - loss: 0.0090 - acc: 0.9970 - val_loss: 0.1435 - val_acc: 0.9739\n",
      "Epoch 18/30\n",
      "42000/42000 [==============================] - 4s 97us/step - loss: 0.0149 - acc: 0.9950 - val_loss: 0.1430 - val_acc: 0.9742\n",
      "Epoch 19/30\n",
      "42000/42000 [==============================] - 4s 93us/step - loss: 0.0101 - acc: 0.9966 - val_loss: 0.1918 - val_acc: 0.9669\n",
      "Epoch 20/30\n",
      "42000/42000 [==============================] - 4s 96us/step - loss: 0.0117 - acc: 0.9962 - val_loss: 0.1475 - val_acc: 0.9729\n",
      "Epoch 21/30\n",
      "42000/42000 [==============================] - 4s 92us/step - loss: 0.0097 - acc: 0.9968 - val_loss: 0.1399 - val_acc: 0.9754\n",
      "Epoch 22/30\n",
      "42000/42000 [==============================] - 4s 100us/step - loss: 0.0109 - acc: 0.9964 - val_loss: 0.1600 - val_acc: 0.9736\n",
      "Epoch 23/30\n",
      "42000/42000 [==============================] - 4s 94us/step - loss: 0.0063 - acc: 0.9979 - val_loss: 0.1706 - val_acc: 0.9716\n",
      "Epoch 24/30\n",
      "42000/42000 [==============================] - 4s 93us/step - loss: 0.0133 - acc: 0.9958 - val_loss: 0.1700 - val_acc: 0.9736\n",
      "Epoch 25/30\n",
      "42000/42000 [==============================] - 4s 92us/step - loss: 0.0095 - acc: 0.9970 - val_loss: 0.1712 - val_acc: 0.9736\n",
      "Epoch 26/30\n",
      "42000/42000 [==============================] - 4s 95us/step - loss: 0.0085 - acc: 0.9971 - val_loss: 0.1535 - val_acc: 0.9747\n",
      "Epoch 27/30\n",
      "42000/42000 [==============================] - 4s 93us/step - loss: 0.0091 - acc: 0.9974 - val_loss: 0.1916 - val_acc: 0.9708\n",
      "Epoch 28/30\n",
      "42000/42000 [==============================] - 4s 92us/step - loss: 0.0086 - acc: 0.9972 - val_loss: 0.1839 - val_acc: 0.9704\n",
      "Epoch 29/30\n",
      "42000/42000 [==============================] - 4s 96us/step - loss: 0.0084 - acc: 0.9974 - val_loss: 0.1758 - val_acc: 0.9727\n",
      "Epoch 30/30\n",
      "42000/42000 [==============================] - 4s 91us/step - loss: 0.0095 - acc: 0.9974 - val_loss: 0.1970 - val_acc: 0.9698\n"
     ]
    },
    {
     "data": {
      "text/plain": [
       "<matplotlib.legend.Legend at 0x7f3581c952e8>"
      ]
     },
     "execution_count": 80,
     "metadata": {},
     "output_type": "execute_result"
    },
    {
     "data": {
      "image/png": "[encoded data removed]",
      "text/plain": [
       "<Figure size 432x288 with 2 Axes>"
      ]
     },
     "metadata": {
      "needs_background": "light"
     },
     "output_type": "display_data"
    }
   ],
   "source": [
    "model_1 = Sequential()\n",
    "model_1.add(Dense(100, activation='relu', input_shape=input_shape))\n",
    "model_1.add(Dense(100, activation='relu'))\n",
    "model_1.add(Dense(10, activation='softmax'))\n",
    "\n",
    "model_1.compile(optimizer='adam', loss='categorical_crossentropy', metrics=['accuracy'])\n",
    "hist_callback = model_1.fit(X_train, y_train, validation_split=0.3, epochs=30)\n",
    "\n",
    "plt.clf()\n",
    "plt.subplot(1,2,1)\n",
    "plt.plot(hist_callback.history['acc'], color='b')\n",
    "plt.plot(hist_callback.history['val_acc'], color='r')\n",
    "plt.title('model accuracy')\n",
    "plt.xlabel(\"epoch\")\n",
    "plt.ylabel(\"accuracy\")\n",
    "plt.legend(['train', 'test'], loc='upper left')\n",
    "\n",
    "plt.subplot(1,2,2)\n",
    "plt.plot(hist_callback.history['loss'], color='b')\n",
    "plt.plot(hist_callback.history['val_loss'], color='r')\n",
    "plt.title('model loss')\n",
    "plt.xlabel(\"epoch\")\n",
    "plt.ylabel(\"loss\")\n",
    "plt.legend(['train', 'test'], loc='upper right')"
   ]
  },
  {
   "cell_type": "code",
   "execution_count": null,
   "metadata": {},
   "outputs": [],
   "source": []
  }
 ],
 "metadata": {
  "kernelspec": {
   "display_name": "Python 3",
   "language": "python",
   "name": "python3"
  },
  "language_info": {
   "codemirror_mode": {
    "name": "ipython",
    "version": 3
   },
   "file_extension": ".py",
   "mimetype": "text/x-python",
   "name": "python",
   "nbconvert_exporter": "python",
   "pygments_lexer": "ipython3",
   "version": "3.6.6"
  }
 },
 "nbformat": 4,
 "nbformat_minor": 2
}
